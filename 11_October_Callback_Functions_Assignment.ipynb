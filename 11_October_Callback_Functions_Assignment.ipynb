{
 "cells": [
  {
   "cell_type": "markdown",
   "id": "2df432ed-172e-474a-afaa-e3107b819267",
   "metadata": {},
   "source": [
    "# Q1. Install and load the latest versions of TensorFlow and Keras. Print their versions."
   ]
  },
  {
   "cell_type": "code",
   "execution_count": 5,
   "id": "3250f22b-86d4-496a-9bba-9bdf5a249f63",
   "metadata": {},
   "outputs": [
    {
     "name": "stdout",
     "output_type": "stream",
     "text": [
      "Requirement already satisfied: tensorflow in /opt/conda/lib/python3.10/site-packages (2.14.0)\n",
      "Requirement already satisfied: astunparse>=1.6.0 in /opt/conda/lib/python3.10/site-packages (from tensorflow) (1.6.3)\n",
      "Requirement already satisfied: tensorflow-io-gcs-filesystem>=0.23.1 in /opt/conda/lib/python3.10/site-packages (from tensorflow) (0.34.0)\n",
      "Requirement already satisfied: typing-extensions>=3.6.6 in /opt/conda/lib/python3.10/site-packages (from tensorflow) (4.4.0)\n",
      "Requirement already satisfied: packaging in /opt/conda/lib/python3.10/site-packages (from tensorflow) (22.0)\n",
      "Requirement already satisfied: ml-dtypes==0.2.0 in /opt/conda/lib/python3.10/site-packages (from tensorflow) (0.2.0)\n",
      "Requirement already satisfied: keras<2.15,>=2.14.0 in /opt/conda/lib/python3.10/site-packages (from tensorflow) (2.14.0)\n",
      "Requirement already satisfied: absl-py>=1.0.0 in /opt/conda/lib/python3.10/site-packages (from tensorflow) (2.0.0)\n",
      "Requirement already satisfied: flatbuffers>=23.5.26 in /opt/conda/lib/python3.10/site-packages (from tensorflow) (23.5.26)\n",
      "Requirement already satisfied: setuptools in /opt/conda/lib/python3.10/site-packages (from tensorflow) (65.5.1)\n",
      "Requirement already satisfied: opt-einsum>=2.3.2 in /opt/conda/lib/python3.10/site-packages (from tensorflow) (3.3.0)\n",
      "Requirement already satisfied: six>=1.12.0 in /opt/conda/lib/python3.10/site-packages (from tensorflow) (1.16.0)\n",
      "Requirement already satisfied: gast!=0.5.0,!=0.5.1,!=0.5.2,>=0.2.1 in /opt/conda/lib/python3.10/site-packages (from tensorflow) (0.5.4)\n",
      "Requirement already satisfied: tensorboard<2.15,>=2.14 in /opt/conda/lib/python3.10/site-packages (from tensorflow) (2.14.1)\n",
      "Requirement already satisfied: protobuf!=4.21.0,!=4.21.1,!=4.21.2,!=4.21.3,!=4.21.4,!=4.21.5,<5.0.0dev,>=3.20.3 in /opt/conda/lib/python3.10/site-packages (from tensorflow) (4.21.11)\n",
      "Requirement already satisfied: termcolor>=1.1.0 in /opt/conda/lib/python3.10/site-packages (from tensorflow) (2.3.0)\n",
      "Requirement already satisfied: google-pasta>=0.1.1 in /opt/conda/lib/python3.10/site-packages (from tensorflow) (0.2.0)\n",
      "Requirement already satisfied: grpcio<2.0,>=1.24.3 in /opt/conda/lib/python3.10/site-packages (from tensorflow) (1.59.0)\n",
      "Requirement already satisfied: numpy>=1.23.5 in /opt/conda/lib/python3.10/site-packages (from tensorflow) (1.23.5)\n",
      "Requirement already satisfied: h5py>=2.9.0 in /opt/conda/lib/python3.10/site-packages (from tensorflow) (3.7.0)\n",
      "Requirement already satisfied: wrapt<1.15,>=1.11.0 in /opt/conda/lib/python3.10/site-packages (from tensorflow) (1.14.1)\n",
      "Requirement already satisfied: tensorflow-estimator<2.15,>=2.14.0 in /opt/conda/lib/python3.10/site-packages (from tensorflow) (2.14.0)\n",
      "Requirement already satisfied: libclang>=13.0.0 in /opt/conda/lib/python3.10/site-packages (from tensorflow) (16.0.6)\n",
      "Requirement already satisfied: wheel<1.0,>=0.23.0 in /opt/conda/lib/python3.10/site-packages (from astunparse>=1.6.0->tensorflow) (0.38.4)\n",
      "Requirement already satisfied: google-auth-oauthlib<1.1,>=0.5 in /opt/conda/lib/python3.10/site-packages (from tensorboard<2.15,>=2.14->tensorflow) (1.0.0)\n",
      "Requirement already satisfied: requests<3,>=2.21.0 in /opt/conda/lib/python3.10/site-packages (from tensorboard<2.15,>=2.14->tensorflow) (2.28.1)\n",
      "Requirement already satisfied: werkzeug>=1.0.1 in /opt/conda/lib/python3.10/site-packages (from tensorboard<2.15,>=2.14->tensorflow) (3.0.0)\n",
      "Requirement already satisfied: tensorboard-data-server<0.8.0,>=0.7.0 in /opt/conda/lib/python3.10/site-packages (from tensorboard<2.15,>=2.14->tensorflow) (0.7.1)\n",
      "Requirement already satisfied: markdown>=2.6.8 in /opt/conda/lib/python3.10/site-packages (from tensorboard<2.15,>=2.14->tensorflow) (3.5)\n",
      "Requirement already satisfied: google-auth<3,>=1.6.3 in /opt/conda/lib/python3.10/site-packages (from tensorboard<2.15,>=2.14->tensorflow) (2.23.3)\n",
      "Requirement already satisfied: cachetools<6.0,>=2.0.0 in /opt/conda/lib/python3.10/site-packages (from google-auth<3,>=1.6.3->tensorboard<2.15,>=2.14->tensorflow) (5.3.1)\n",
      "Requirement already satisfied: rsa<5,>=3.1.4 in /opt/conda/lib/python3.10/site-packages (from google-auth<3,>=1.6.3->tensorboard<2.15,>=2.14->tensorflow) (4.9)\n",
      "Requirement already satisfied: pyasn1-modules>=0.2.1 in /opt/conda/lib/python3.10/site-packages (from google-auth<3,>=1.6.3->tensorboard<2.15,>=2.14->tensorflow) (0.3.0)\n",
      "Requirement already satisfied: requests-oauthlib>=0.7.0 in /opt/conda/lib/python3.10/site-packages (from google-auth-oauthlib<1.1,>=0.5->tensorboard<2.15,>=2.14->tensorflow) (1.3.1)\n",
      "Requirement already satisfied: idna<4,>=2.5 in /opt/conda/lib/python3.10/site-packages (from requests<3,>=2.21.0->tensorboard<2.15,>=2.14->tensorflow) (3.4)\n",
      "Requirement already satisfied: urllib3<1.27,>=1.21.1 in /opt/conda/lib/python3.10/site-packages (from requests<3,>=2.21.0->tensorboard<2.15,>=2.14->tensorflow) (1.26.13)\n",
      "Requirement already satisfied: certifi>=2017.4.17 in /opt/conda/lib/python3.10/site-packages (from requests<3,>=2.21.0->tensorboard<2.15,>=2.14->tensorflow) (2022.12.7)\n",
      "Requirement already satisfied: charset-normalizer<3,>=2 in /opt/conda/lib/python3.10/site-packages (from requests<3,>=2.21.0->tensorboard<2.15,>=2.14->tensorflow) (2.1.1)\n",
      "Requirement already satisfied: MarkupSafe>=2.1.1 in /opt/conda/lib/python3.10/site-packages (from werkzeug>=1.0.1->tensorboard<2.15,>=2.14->tensorflow) (2.1.1)\n",
      "Requirement already satisfied: pyasn1<0.6.0,>=0.4.6 in /opt/conda/lib/python3.10/site-packages (from pyasn1-modules>=0.2.1->google-auth<3,>=1.6.3->tensorboard<2.15,>=2.14->tensorflow) (0.5.0)\n",
      "Requirement already satisfied: oauthlib>=3.0.0 in /opt/conda/lib/python3.10/site-packages (from requests-oauthlib>=0.7.0->google-auth-oauthlib<1.1,>=0.5->tensorboard<2.15,>=2.14->tensorflow) (3.2.2)\n",
      "Requirement already satisfied: keras in /opt/conda/lib/python3.10/site-packages (2.14.0)\n"
     ]
    },
    {
     "name": "stderr",
     "output_type": "stream",
     "text": [
      "2023-10-11 15:42:59.003002: I tensorflow/tsl/cuda/cudart_stub.cc:28] Could not find cuda drivers on your machine, GPU will not be used.\n",
      "2023-10-11 15:42:59.067850: E tensorflow/compiler/xla/stream_executor/cuda/cuda_dnn.cc:9342] Unable to register cuDNN factory: Attempting to register factory for plugin cuDNN when one has already been registered\n",
      "2023-10-11 15:42:59.067910: E tensorflow/compiler/xla/stream_executor/cuda/cuda_fft.cc:609] Unable to register cuFFT factory: Attempting to register factory for plugin cuFFT when one has already been registered\n",
      "2023-10-11 15:42:59.067959: E tensorflow/compiler/xla/stream_executor/cuda/cuda_blas.cc:1518] Unable to register cuBLAS factory: Attempting to register factory for plugin cuBLAS when one has already been registered\n",
      "2023-10-11 15:42:59.078697: I tensorflow/tsl/cuda/cudart_stub.cc:28] Could not find cuda drivers on your machine, GPU will not be used.\n",
      "2023-10-11 15:42:59.079901: I tensorflow/core/platform/cpu_feature_guard.cc:182] This TensorFlow binary is optimized to use available CPU instructions in performance-critical operations.\n",
      "To enable the following instructions: AVX2 FMA, in other operations, rebuild TensorFlow with the appropriate compiler flags.\n",
      "2023-10-11 15:43:00.324357: W tensorflow/compiler/tf2tensorrt/utils/py_utils.cc:38] TF-TRT Warning: Could not find TensorRT\n"
     ]
    },
    {
     "name": "stdout",
     "output_type": "stream",
     "text": [
      "TensorFlow version: 2.14.0\n"
     ]
    },
    {
     "ename": "AttributeError",
     "evalue": "module 'keras.api._v2.keras' has no attribute '__version__'",
     "output_type": "error",
     "traceback": [
      "\u001b[0;31m---------------------------------------------------------------------------\u001b[0m",
      "\u001b[0;31mAttributeError\u001b[0m                            Traceback (most recent call last)",
      "Cell \u001b[0;32mIn[5], line 13\u001b[0m\n\u001b[1;32m     11\u001b[0m \u001b[38;5;66;03m# Print the versions\u001b[39;00m\n\u001b[1;32m     12\u001b[0m \u001b[38;5;28mprint\u001b[39m(\u001b[38;5;124m\"\u001b[39m\u001b[38;5;124mTensorFlow version:\u001b[39m\u001b[38;5;124m\"\u001b[39m, tf\u001b[38;5;241m.\u001b[39m__version__)\n\u001b[0;32m---> 13\u001b[0m \u001b[38;5;28mprint\u001b[39m(\u001b[38;5;124m\"\u001b[39m\u001b[38;5;124mKeras version:\u001b[39m\u001b[38;5;124m\"\u001b[39m, \u001b[43mkeras\u001b[49m\u001b[38;5;241;43m.\u001b[39;49m\u001b[43m__version__\u001b[49m)\n",
      "File \u001b[0;32m/opt/conda/lib/python3.10/site-packages/tensorflow/python/util/lazy_loader.py:67\u001b[0m, in \u001b[0;36mLazyLoader.__getattr__\u001b[0;34m(self, item)\u001b[0m\n\u001b[1;32m     65\u001b[0m \u001b[38;5;28;01mdef\u001b[39;00m \u001b[38;5;21m__getattr__\u001b[39m(\u001b[38;5;28mself\u001b[39m, item):\n\u001b[1;32m     66\u001b[0m   module \u001b[38;5;241m=\u001b[39m \u001b[38;5;28mself\u001b[39m\u001b[38;5;241m.\u001b[39m_load()\n\u001b[0;32m---> 67\u001b[0m   \u001b[38;5;28;01mreturn\u001b[39;00m \u001b[38;5;28;43mgetattr\u001b[39;49m\u001b[43m(\u001b[49m\u001b[43mmodule\u001b[49m\u001b[43m,\u001b[49m\u001b[43m \u001b[49m\u001b[43mitem\u001b[49m\u001b[43m)\u001b[49m\n",
      "\u001b[0;31mAttributeError\u001b[0m: module 'keras.api._v2.keras' has no attribute '__version__'"
     ]
    }
   ],
   "source": [
    "# Install TensorFlow\n",
    "!pip install tensorflow\n",
    "\n",
    "# Install Keras (usually comes with TensorFlow)\n",
    "!pip install keras\n",
    "\n",
    "# Import TensorFlow and Keras\n",
    "import tensorflow as tf\n",
    "from tensorflow import keras\n",
    "\n",
    "# Print the versions\n",
    "print(\"TensorFlow version:\", tf.__version__)\n",
    "print(\"Keras version:\", keras.__version__)\n"
   ]
  },
  {
   "cell_type": "markdown",
   "id": "958a4074-fb5c-4331-94c0-a68f37eae385",
   "metadata": {},
   "source": [
    "# Q2. Load the Wine Quality dataset and explore its dimensions.\n",
    "- Dataset link: https://www.kaggle.com/datasets/nareshbhat/wine-quality-binary-classification"
   ]
  },
  {
   "cell_type": "code",
   "execution_count": 6,
   "id": "f3532087-a84f-41ad-91ab-c04f492b55c3",
   "metadata": {},
   "outputs": [
    {
     "name": "stdout",
     "output_type": "stream",
     "text": [
      "Requirement already satisfied: pandas in /opt/conda/lib/python3.10/site-packages (1.5.2)\n",
      "Requirement already satisfied: numpy in /opt/conda/lib/python3.10/site-packages (1.23.5)\n",
      "Requirement already satisfied: python-dateutil>=2.8.1 in /opt/conda/lib/python3.10/site-packages (from pandas) (2.8.2)\n",
      "Requirement already satisfied: pytz>=2020.1 in /opt/conda/lib/python3.10/site-packages (from pandas) (2022.6)\n",
      "Requirement already satisfied: six>=1.5 in /opt/conda/lib/python3.10/site-packages (from python-dateutil>=2.8.1->pandas) (1.16.0)\n",
      "Note: you may need to restart the kernel to use updated packages.\n"
     ]
    }
   ],
   "source": [
    "pip install pandas numpy"
   ]
  },
  {
   "cell_type": "code",
   "execution_count": 7,
   "id": "13eeec1e-a3be-4cda-a110-51780df8ca38",
   "metadata": {},
   "outputs": [
    {
     "name": "stdout",
     "output_type": "stream",
     "text": [
      "   fixed acidity  volatile acidity  citric acid  residual sugar  chlorides  \\\n",
      "0            7.4              0.70         0.00             1.9      0.076   \n",
      "1            7.8              0.88         0.00             2.6      0.098   \n",
      "2            7.8              0.76         0.04             2.3      0.092   \n",
      "3           11.2              0.28         0.56             1.9      0.075   \n",
      "4            7.4              0.70         0.00             1.9      0.076   \n",
      "\n",
      "   free sulfur dioxide  total sulfur dioxide  density    pH  sulphates  \\\n",
      "0                 11.0                  34.0   0.9978  3.51       0.56   \n",
      "1                 25.0                  67.0   0.9968  3.20       0.68   \n",
      "2                 15.0                  54.0   0.9970  3.26       0.65   \n",
      "3                 17.0                  60.0   0.9980  3.16       0.58   \n",
      "4                 11.0                  34.0   0.9978  3.51       0.56   \n",
      "\n",
      "   alcohol quality  \n",
      "0      9.4     bad  \n",
      "1      9.8     bad  \n",
      "2      9.8     bad  \n",
      "3      9.8    good  \n",
      "4      9.4     bad  \n",
      "       fixed acidity  volatile acidity  citric acid  residual sugar  \\\n",
      "count    1599.000000       1599.000000  1599.000000     1599.000000   \n",
      "mean        8.319637          0.527821     0.270976        2.538806   \n",
      "std         1.741096          0.179060     0.194801        1.409928   \n",
      "min         4.600000          0.120000     0.000000        0.900000   \n",
      "25%         7.100000          0.390000     0.090000        1.900000   \n",
      "50%         7.900000          0.520000     0.260000        2.200000   \n",
      "75%         9.200000          0.640000     0.420000        2.600000   \n",
      "max        15.900000          1.580000     1.000000       15.500000   \n",
      "\n",
      "         chlorides  free sulfur dioxide  total sulfur dioxide      density  \\\n",
      "count  1599.000000          1599.000000           1599.000000  1599.000000   \n",
      "mean      0.087467            15.874922             46.467792     0.996747   \n",
      "std       0.047065            10.460157             32.895324     0.001887   \n",
      "min       0.012000             1.000000              6.000000     0.990070   \n",
      "25%       0.070000             7.000000             22.000000     0.995600   \n",
      "50%       0.079000            14.000000             38.000000     0.996750   \n",
      "75%       0.090000            21.000000             62.000000     0.997835   \n",
      "max       0.611000            72.000000            289.000000     1.003690   \n",
      "\n",
      "                pH    sulphates      alcohol  \n",
      "count  1599.000000  1599.000000  1599.000000  \n",
      "mean      3.311113     0.658149    10.422983  \n",
      "std       0.154386     0.169507     1.065668  \n",
      "min       2.740000     0.330000     8.400000  \n",
      "25%       3.210000     0.550000     9.500000  \n",
      "50%       3.310000     0.620000    10.200000  \n",
      "75%       3.400000     0.730000    11.100000  \n",
      "max       4.010000     2.000000    14.900000  \n"
     ]
    }
   ],
   "source": [
    "import pandas as pd\n",
    "data = pd.read_csv('wine.csv')\n",
    "print(data.head())\n",
    "print(data.describe())\n"
   ]
  },
  {
   "cell_type": "markdown",
   "id": "67fb8c8b-f612-42d8-903f-d02b5fc74d90",
   "metadata": {},
   "source": [
    "# Q3. Check for null values, identify categorical variables, and encode them."
   ]
  },
  {
   "cell_type": "code",
   "execution_count": 8,
   "id": "26de3c9f-863a-4f98-992b-d6816e3bd841",
   "metadata": {},
   "outputs": [
    {
     "name": "stdout",
     "output_type": "stream",
     "text": [
      "Null Values:\n",
      " fixed acidity           0\n",
      "volatile acidity        0\n",
      "citric acid             0\n",
      "residual sugar          0\n",
      "chlorides               0\n",
      "free sulfur dioxide     0\n",
      "total sulfur dioxide    0\n",
      "density                 0\n",
      "pH                      0\n",
      "sulphates               0\n",
      "alcohol                 0\n",
      "quality                 0\n",
      "dtype: int64\n",
      "Categorical Variables:\n",
      " Index(['quality'], dtype='object')\n"
     ]
    }
   ],
   "source": [
    "# Check for null values in the dataset\n",
    "null_values = data.isnull().sum()\n",
    "print(\"Null Values:\\n\", null_values)\n",
    "\n",
    "# Identify categorical variables\n",
    "categorical_columns = data.select_dtypes(include=['object']).columns\n",
    "print(\"Categorical Variables:\\n\", categorical_columns)\n",
    "\n",
    "# Encode categorical variables using one-hot encoding\n",
    "data_encoded = pd.get_dummies(data, columns=categorical_columns)\n"
   ]
  },
  {
   "cell_type": "markdown",
   "id": "6476b44a-231a-4d79-a198-f2a108315045",
   "metadata": {},
   "source": [
    "# Q4. Separate the features and target variables from the dataframe."
   ]
  },
  {
   "cell_type": "code",
   "execution_count": 9,
   "id": "42f26ee3-c19c-4fef-857f-c41ed49d644b",
   "metadata": {},
   "outputs": [],
   "source": [
    "# Assuming 'target_column_name' is the name of the column you want to predict\n",
    "target_column_name = 'alcohol'\n",
    "\n",
    "# Separate features (X) and target (y)\n",
    "X = data_encoded.drop(target_column_name, axis=1)\n",
    "y = data_encoded[target_column_name]\n"
   ]
  },
  {
   "cell_type": "markdown",
   "id": "870a9d80-a3e2-4479-a11b-08bd9c392709",
   "metadata": {},
   "source": [
    "# Q5. Perform a train-test split and divide the data into training, validation, and test datasets."
   ]
  },
  {
   "cell_type": "code",
   "execution_count": 11,
   "id": "d9734102-65d2-4d42-9ba7-85611e25919a",
   "metadata": {},
   "outputs": [
    {
     "name": "stdout",
     "output_type": "stream",
     "text": [
      "Training set: X_train shape = (1119, 12) y_train shape = (1119,)\n",
      "Validation set: X_val shape = (240, 12) y_val shape = (240,)\n",
      "Test set: X_test shape = (240, 12) y_test shape = (240,)\n"
     ]
    }
   ],
   "source": [
    "from sklearn.model_selection import train_test_split\n",
    "\n",
    "# Define the features (X) and target variable (y)\n",
    "X = data_encoded.drop('alcohol', axis=1)\n",
    "y = data_encoded['alcohol']\n",
    "\n",
    "# Split the data into training, validation, and test sets\n",
    "X_train, X_temp, y_train, y_temp = train_test_split(X, y, test_size=0.3, random_state=42)\n",
    "X_val, X_test, y_val, y_test = train_test_split(X_temp, y_temp, test_size=0.5, random_state=42)\n",
    "\n",
    "# Print the dimensions of the resulting sets\n",
    "print(\"Training set: X_train shape =\", X_train.shape, \"y_train shape =\", y_train.shape)\n",
    "print(\"Validation set: X_val shape =\", X_val.shape, \"y_val shape =\", y_val.shape)\n",
    "print(\"Test set: X_test shape =\", X_test.shape, \"y_test shape =\", y_test.shape)\n"
   ]
  },
  {
   "cell_type": "markdown",
   "id": "d26d4027-36be-46df-acfe-8acf95af558a",
   "metadata": {},
   "source": [
    "# Q6. Perform scaling on the dataset."
   ]
  },
  {
   "cell_type": "code",
   "execution_count": 12,
   "id": "fbf307a5-0c69-444b-a4f0-c774767a65e4",
   "metadata": {},
   "outputs": [],
   "source": [
    "from sklearn.preprocessing import StandardScaler\n",
    "\n",
    "# Initialize the StandardScaler\n",
    "scaler = StandardScaler()\n",
    "\n",
    "# Fit and transform the scaler on training data\n",
    "X_train_scaled = scaler.fit_transform(X_train)\n",
    "\n",
    "# Transform validation and test data using the same scaler\n",
    "X_val_scaled = scaler.transform(X_val)\n",
    "X_test_scaled = scaler.transform(X_test)\n"
   ]
  },
  {
   "cell_type": "markdown",
   "id": "30ce936d-c63e-4130-897e-3c258b9e2360",
   "metadata": {},
   "source": [
    "# Q7. Create at least 2 hidden layers and an output layer for the binary categorical variables."
   ]
  },
  {
   "cell_type": "code",
   "execution_count": 13,
   "id": "b9752e9c-cfe4-4515-82a2-a23a896b7a2b",
   "metadata": {},
   "outputs": [
    {
     "name": "stdout",
     "output_type": "stream",
     "text": [
      "Epoch 1/10\n",
      "35/35 [==============================] - 1s 9ms/step - loss: -18.8487 - accuracy: 0.0000e+00 - val_loss: -38.2490 - val_accuracy: 0.0000e+00\n",
      "Epoch 2/10\n",
      "35/35 [==============================] - 0s 3ms/step - loss: -68.3772 - accuracy: 0.0000e+00 - val_loss: -112.6144 - val_accuracy: 0.0000e+00\n",
      "Epoch 3/10\n",
      "35/35 [==============================] - 0s 3ms/step - loss: -179.2939 - accuracy: 0.0000e+00 - val_loss: -274.1141 - val_accuracy: 0.0000e+00\n",
      "Epoch 4/10\n",
      "35/35 [==============================] - 0s 3ms/step - loss: -404.2016 - accuracy: 0.0000e+00 - val_loss: -584.6226 - val_accuracy: 0.0000e+00\n",
      "Epoch 5/10\n",
      "35/35 [==============================] - 0s 3ms/step - loss: -807.8618 - accuracy: 0.0000e+00 - val_loss: -1109.1135 - val_accuracy: 0.0000e+00\n",
      "Epoch 6/10\n",
      "35/35 [==============================] - 0s 3ms/step - loss: -1454.3756 - accuracy: 0.0000e+00 - val_loss: -1910.9291 - val_accuracy: 0.0000e+00\n",
      "Epoch 7/10\n",
      "35/35 [==============================] - 0s 3ms/step - loss: -2405.1257 - accuracy: 0.0000e+00 - val_loss: -3061.3171 - val_accuracy: 0.0000e+00\n",
      "Epoch 8/10\n",
      "35/35 [==============================] - 0s 3ms/step - loss: -3726.8364 - accuracy: 0.0000e+00 - val_loss: -4633.9619 - val_accuracy: 0.0000e+00\n",
      "Epoch 9/10\n",
      "35/35 [==============================] - 0s 3ms/step - loss: -5489.9185 - accuracy: 0.0000e+00 - val_loss: -6662.7734 - val_accuracy: 0.0000e+00\n",
      "Epoch 10/10\n",
      "35/35 [==============================] - 0s 3ms/step - loss: -7744.7490 - accuracy: 0.0000e+00 - val_loss: -9241.0322 - val_accuracy: 0.0000e+00\n"
     ]
    },
    {
     "data": {
      "text/plain": [
       "<keras.src.callbacks.History at 0x7f5aef3e3c40>"
      ]
     },
     "execution_count": 13,
     "metadata": {},
     "output_type": "execute_result"
    }
   ],
   "source": [
    "from tensorflow import keras\n",
    "\n",
    "# Create a Sequential model\n",
    "model = keras.Sequential()\n",
    "\n",
    "# Add the input layer (input_shape should match the number of features)\n",
    "model.add(keras.layers.InputLayer(input_shape=(X_train_scaled.shape[1],)))\n",
    "\n",
    "# Add at least 2 hidden layers with a specified number of neurons and activation functions\n",
    "model.add(keras.layers.Dense(units=64, activation='relu'))\n",
    "model.add(keras.layers.Dense(units=32, activation='relu'))\n",
    "\n",
    "# Add the output layer with 1 neuron and a sigmoid activation function for binary classification\n",
    "model.add(keras.layers.Dense(units=1, activation='sigmoid'))\n",
    "\n",
    "# Compile the model with an appropriate optimizer, loss function, and metrics\n",
    "model.compile(optimizer='adam', loss='binary_crossentropy', metrics=['accuracy'])\n",
    "\n",
    "# Fit the model to your training data\n",
    "model.fit(X_train_scaled, y_train, epochs=10, batch_size=32, validation_data=(X_val_scaled, y_val))\n"
   ]
  },
  {
   "cell_type": "markdown",
   "id": "101242fd-0c15-4e48-89c0-fa1cd8123353",
   "metadata": {},
   "source": [
    "# Q8. Create a Sequential model and add all the layers to it."
   ]
  },
  {
   "cell_type": "code",
   "execution_count": 14,
   "id": "1cd73940-5065-4200-8189-a51ab264f337",
   "metadata": {},
   "outputs": [
    {
     "name": "stdout",
     "output_type": "stream",
     "text": [
      "Model: \"sequential\"\n",
      "_________________________________________________________________\n",
      " Layer (type)                Output Shape              Param #   \n",
      "=================================================================\n",
      " dense (Dense)               (None, 64)                832       \n",
      "                                                                 \n",
      " dense_1 (Dense)             (None, 32)                2080      \n",
      "                                                                 \n",
      " dense_2 (Dense)             (None, 1)                 33        \n",
      "                                                                 \n",
      "=================================================================\n",
      "Total params: 2945 (11.50 KB)\n",
      "Trainable params: 2945 (11.50 KB)\n",
      "Non-trainable params: 0 (0.00 Byte)\n",
      "_________________________________________________________________\n"
     ]
    }
   ],
   "source": [
    "# Compile the model with an appropriate optimizer, loss function, and metrics\n",
    "model.compile(optimizer='adam', loss='binary_crossentropy', metrics=['accuracy'])\n",
    "\n",
    "# Display a summary of the model's architecture\n",
    "model.summary()\n"
   ]
  },
  {
   "cell_type": "markdown",
   "id": "02e50911-9ffb-48a4-a568-05b60ccfdc9d",
   "metadata": {},
   "source": [
    "# Q9. Implement a TensorBoard callback to visualize and monitor the model's training process."
   ]
  },
  {
   "cell_type": "code",
   "execution_count": 15,
   "id": "8600fe17-fd41-4d40-bb62-d9de16396d93",
   "metadata": {},
   "outputs": [],
   "source": [
    "from tensorflow.keras.callbacks import TensorBoard\n",
    "\n",
    "# Create a TensorBoard callback\n",
    "tensorboard_callback = TensorBoard(log_dir='./logs', histogram_freq=1)\n"
   ]
  },
  {
   "cell_type": "markdown",
   "id": "e90ffa6f-44f5-4bd6-bcbf-9d0330a35502",
   "metadata": {},
   "source": [
    "# Q10. Use Early Stopping to prevent overfitting by monitoring a chosen metric and stopping the training if no improvement is observed."
   ]
  },
  {
   "cell_type": "code",
   "execution_count": 18,
   "id": "6c711889-590f-4f89-a044-365918f63215",
   "metadata": {},
   "outputs": [],
   "source": [
    "from tensorflow.keras.callbacks import EarlyStopping\n",
    "\n",
    "# Create an Early Stopping callback\n",
    "early_stopping_callback = EarlyStopping(monitor='val_loss', patience=5, restore_best_weights=True)\n"
   ]
  },
  {
   "cell_type": "markdown",
   "id": "20e46cd2-ff69-4660-8a3f-4a06cca349ea",
   "metadata": {},
   "source": [
    "# Q11. Implement a ModelCheckpoint callback to save the best model based on a chosen metric during training."
   ]
  },
  {
   "cell_type": "code",
   "execution_count": 19,
   "id": "002f76a7-797d-40e2-ba5b-e8d29d05a494",
   "metadata": {},
   "outputs": [],
   "source": [
    "from tensorflow.keras.callbacks import ModelCheckpoint\n",
    "\n",
    "# Create a ModelCheckpoint callback to save the best model\n",
    "model_checkpoint_callback = ModelCheckpoint('best_model.h5', monitor='val_loss', save_best_only=True)\n"
   ]
  },
  {
   "cell_type": "markdown",
   "id": "29d30102-99a5-46b5-9142-da7bc2ee45c1",
   "metadata": {},
   "source": [
    "# Q12. Print the model summary."
   ]
  },
  {
   "cell_type": "code",
   "execution_count": 20,
   "id": "eaa5dca8-81fd-453d-b6da-62f0d8b9e770",
   "metadata": {},
   "outputs": [
    {
     "name": "stdout",
     "output_type": "stream",
     "text": [
      "Model: \"sequential\"\n",
      "_________________________________________________________________\n",
      " Layer (type)                Output Shape              Param #   \n",
      "=================================================================\n",
      " dense (Dense)               (None, 64)                832       \n",
      "                                                                 \n",
      " dense_1 (Dense)             (None, 32)                2080      \n",
      "                                                                 \n",
      " dense_2 (Dense)             (None, 1)                 33        \n",
      "                                                                 \n",
      "=================================================================\n",
      "Total params: 2945 (11.50 KB)\n",
      "Trainable params: 2945 (11.50 KB)\n",
      "Non-trainable params: 0 (0.00 Byte)\n",
      "_________________________________________________________________\n"
     ]
    }
   ],
   "source": [
    "model.summary()\n"
   ]
  },
  {
   "cell_type": "markdown",
   "id": "792562c4-2804-4231-8d5b-578e7d804c0e",
   "metadata": {},
   "source": [
    "# Q13. Use binary cross-entropy as the loss function, Adam optimizer, and include the metric ['accuracy'].\n",
    "# Q14. Compile the model with the specified loss function, optimizer, and metrics."
   ]
  },
  {
   "cell_type": "code",
   "execution_count": 22,
   "id": "fac43330-323a-46a0-a64a-fefe325c9c38",
   "metadata": {},
   "outputs": [],
   "source": [
    "# Compile the model with binary cross-entropy loss, Adam optimizer, and accuracy metric\n",
    "model.compile(loss='binary_crossentropy', optimizer='adam', metrics=['accuracy'])\n"
   ]
  },
  {
   "cell_type": "markdown",
   "id": "574a9e14-a0d5-45d4-9939-f93ccef73dab",
   "metadata": {},
   "source": [
    "# Q15. Fit the model to the data, incorporating the TensorBoard, Early Stopping, and ModelCheckpointcallbacks."
   ]
  },
  {
   "cell_type": "code",
   "execution_count": 23,
   "id": "2b04a4e7-6f25-407e-bd1e-586de0b79910",
   "metadata": {},
   "outputs": [
    {
     "name": "stdout",
     "output_type": "stream",
     "text": [
      "Epoch 1/50\n",
      "35/35 [==============================] - 1s 13ms/step - loss: -9813.1416 - accuracy: 0.0000e+00 - val_loss: -10750.1338 - val_accuracy: 0.0000e+00\n",
      "Epoch 2/50\n",
      "22/35 [=================>............] - ETA: 0s - loss: -11034.8740 - accuracy: 0.0000e+00"
     ]
    },
    {
     "name": "stderr",
     "output_type": "stream",
     "text": [
      "/opt/conda/lib/python3.10/site-packages/keras/src/engine/training.py:3079: UserWarning: You are saving your model as an HDF5 file via `model.save()`. This file format is considered legacy. We recommend using instead the native Keras format, e.g. `model.save('my_model.keras')`.\n",
      "  saving_api.save_model(\n"
     ]
    },
    {
     "name": "stdout",
     "output_type": "stream",
     "text": [
      "35/35 [==============================] - 0s 5ms/step - loss: -11411.7607 - accuracy: 0.0000e+00 - val_loss: -12494.1709 - val_accuracy: 0.0000e+00\n",
      "Epoch 3/50\n",
      "35/35 [==============================] - 0s 5ms/step - loss: -13254.2051 - accuracy: 0.0000e+00 - val_loss: -14504.9941 - val_accuracy: 0.0000e+00\n",
      "Epoch 4/50\n",
      "35/35 [==============================] - 0s 5ms/step - loss: -15364.4473 - accuracy: 0.0000e+00 - val_loss: -16827.9336 - val_accuracy: 0.0000e+00\n",
      "Epoch 5/50\n",
      "35/35 [==============================] - 0s 5ms/step - loss: -17800.6699 - accuracy: 0.0000e+00 - val_loss: -19475.0527 - val_accuracy: 0.0000e+00\n",
      "Epoch 6/50\n",
      "35/35 [==============================] - 0s 5ms/step - loss: -20584.1289 - accuracy: 0.0000e+00 - val_loss: -22507.8242 - val_accuracy: 0.0000e+00\n",
      "Epoch 7/50\n",
      "35/35 [==============================] - 0s 5ms/step - loss: -23757.7891 - accuracy: 0.0000e+00 - val_loss: -25957.1504 - val_accuracy: 0.0000e+00\n",
      "Epoch 8/50\n",
      "35/35 [==============================] - 0s 5ms/step - loss: -27365.8750 - accuracy: 0.0000e+00 - val_loss: -29881.4805 - val_accuracy: 0.0000e+00\n",
      "Epoch 9/50\n",
      "35/35 [==============================] - 0s 5ms/step - loss: -31462.6875 - accuracy: 0.0000e+00 - val_loss: -34289.0547 - val_accuracy: 0.0000e+00\n",
      "Epoch 10/50\n",
      "35/35 [==============================] - 0s 5ms/step - loss: -36080.2539 - accuracy: 0.0000e+00 - val_loss: -39265.9883 - val_accuracy: 0.0000e+00\n",
      "Epoch 11/50\n",
      "35/35 [==============================] - 0s 5ms/step - loss: -41255.3398 - accuracy: 0.0000e+00 - val_loss: -44905.5781 - val_accuracy: 0.0000e+00\n",
      "Epoch 12/50\n",
      "35/35 [==============================] - 0s 5ms/step - loss: -47090.5820 - accuracy: 0.0000e+00 - val_loss: -51111.3711 - val_accuracy: 0.0000e+00\n",
      "Epoch 13/50\n",
      "35/35 [==============================] - 0s 6ms/step - loss: -53534.7734 - accuracy: 0.0000e+00 - val_loss: -58096.9766 - val_accuracy: 0.0000e+00\n",
      "Epoch 14/50\n",
      "35/35 [==============================] - 0s 5ms/step - loss: -60718.9648 - accuracy: 0.0000e+00 - val_loss: -65776.6641 - val_accuracy: 0.0000e+00\n",
      "Epoch 15/50\n",
      "35/35 [==============================] - 0s 5ms/step - loss: -68651.6562 - accuracy: 0.0000e+00 - val_loss: -74230.4844 - val_accuracy: 0.0000e+00\n",
      "Epoch 16/50\n",
      "35/35 [==============================] - 0s 5ms/step - loss: -77379.6953 - accuracy: 0.0000e+00 - val_loss: -83572.4688 - val_accuracy: 0.0000e+00\n",
      "Epoch 17/50\n",
      "35/35 [==============================] - 0s 5ms/step - loss: -86960.8516 - accuracy: 0.0000e+00 - val_loss: -93792.7500 - val_accuracy: 0.0000e+00\n",
      "Epoch 18/50\n",
      "35/35 [==============================] - 0s 5ms/step - loss: -97439.9609 - accuracy: 0.0000e+00 - val_loss: -104964.7266 - val_accuracy: 0.0000e+00\n",
      "Epoch 19/50\n",
      "35/35 [==============================] - 0s 5ms/step - loss: -108867.7578 - accuracy: 0.0000e+00 - val_loss: -117081.9062 - val_accuracy: 0.0000e+00\n",
      "Epoch 20/50\n",
      "35/35 [==============================] - 0s 5ms/step - loss: -121247.5312 - accuracy: 0.0000e+00 - val_loss: -130297.3438 - val_accuracy: 0.0000e+00\n",
      "Epoch 21/50\n",
      "35/35 [==============================] - 0s 5ms/step - loss: -134664.6875 - accuracy: 0.0000e+00 - val_loss: -144583.4062 - val_accuracy: 0.0000e+00\n",
      "Epoch 22/50\n",
      "35/35 [==============================] - 0s 5ms/step - loss: -149176.2812 - accuracy: 0.0000e+00 - val_loss: -159846.0938 - val_accuracy: 0.0000e+00\n",
      "Epoch 23/50\n",
      "35/35 [==============================] - 0s 5ms/step - loss: -164748.5156 - accuracy: 0.0000e+00 - val_loss: -176182.3281 - val_accuracy: 0.0000e+00\n",
      "Epoch 24/50\n",
      "35/35 [==============================] - 0s 5ms/step - loss: -181391.0781 - accuracy: 0.0000e+00 - val_loss: -193934.4844 - val_accuracy: 0.0000e+00\n",
      "Epoch 25/50\n",
      "35/35 [==============================] - 0s 5ms/step - loss: -199281.6719 - accuracy: 0.0000e+00 - val_loss: -212768.9531 - val_accuracy: 0.0000e+00\n",
      "Epoch 26/50\n",
      "35/35 [==============================] - 0s 5ms/step - loss: -218369.7812 - accuracy: 0.0000e+00 - val_loss: -232823.8906 - val_accuracy: 0.0000e+00\n",
      "Epoch 27/50\n",
      "35/35 [==============================] - 0s 5ms/step - loss: -238673.5781 - accuracy: 0.0000e+00 - val_loss: -254226.4219 - val_accuracy: 0.0000e+00\n",
      "Epoch 28/50\n",
      "35/35 [==============================] - 0s 5ms/step - loss: -260285.1406 - accuracy: 0.0000e+00 - val_loss: -276940.6562 - val_accuracy: 0.0000e+00\n",
      "Epoch 29/50\n",
      "35/35 [==============================] - 0s 4ms/step - loss: -283157.8125 - accuracy: 0.0000e+00 - val_loss: -301107.2812 - val_accuracy: 0.0000e+00\n",
      "Epoch 30/50\n",
      "35/35 [==============================] - 0s 5ms/step - loss: -307458.2812 - accuracy: 0.0000e+00 - val_loss: -326450.0625 - val_accuracy: 0.0000e+00\n",
      "Epoch 31/50\n",
      "35/35 [==============================] - 0s 5ms/step - loss: -333044.7188 - accuracy: 0.0000e+00 - val_loss: -353328.7188 - val_accuracy: 0.0000e+00\n",
      "Epoch 32/50\n",
      "35/35 [==============================] - 0s 5ms/step - loss: -360076.2812 - accuracy: 0.0000e+00 - val_loss: -381524.0938 - val_accuracy: 0.0000e+00\n",
      "Epoch 33/50\n",
      "35/35 [==============================] - 0s 6ms/step - loss: -388487.2188 - accuracy: 0.0000e+00 - val_loss: -411282.5000 - val_accuracy: 0.0000e+00\n",
      "Epoch 34/50\n",
      "35/35 [==============================] - 0s 5ms/step - loss: -418420.3750 - accuracy: 0.0000e+00 - val_loss: -442414.6250 - val_accuracy: 0.0000e+00\n",
      "Epoch 35/50\n",
      "35/35 [==============================] - 0s 5ms/step - loss: -449723.5312 - accuracy: 0.0000e+00 - val_loss: -475306.5938 - val_accuracy: 0.0000e+00\n",
      "Epoch 36/50\n",
      "35/35 [==============================] - 0s 5ms/step - loss: -482474.9375 - accuracy: 0.0000e+00 - val_loss: -509881.1562 - val_accuracy: 0.0000e+00\n",
      "Epoch 37/50\n",
      "35/35 [==============================] - 0s 5ms/step - loss: -516976.5625 - accuracy: 0.0000e+00 - val_loss: -545471.6875 - val_accuracy: 0.0000e+00\n",
      "Epoch 38/50\n",
      "35/35 [==============================] - 0s 5ms/step - loss: -552827.8125 - accuracy: 0.0000e+00 - val_loss: -582862.1250 - val_accuracy: 0.0000e+00\n",
      "Epoch 39/50\n",
      "35/35 [==============================] - 0s 5ms/step - loss: -590228.0625 - accuracy: 0.0000e+00 - val_loss: -622178.6875 - val_accuracy: 0.0000e+00\n",
      "Epoch 40/50\n",
      "35/35 [==============================] - 0s 5ms/step - loss: -629391.8750 - accuracy: 0.0000e+00 - val_loss: -662674.8125 - val_accuracy: 0.0000e+00\n",
      "Epoch 41/50\n",
      "35/35 [==============================] - 0s 5ms/step - loss: -669979.3750 - accuracy: 0.0000e+00 - val_loss: -705159.1250 - val_accuracy: 0.0000e+00\n",
      "Epoch 42/50\n",
      "35/35 [==============================] - 0s 5ms/step - loss: -712298.4375 - accuracy: 0.0000e+00 - val_loss: -749171.0625 - val_accuracy: 0.0000e+00\n",
      "Epoch 43/50\n",
      "35/35 [==============================] - 0s 5ms/step - loss: -756270.6875 - accuracy: 0.0000e+00 - val_loss: -794612.1250 - val_accuracy: 0.0000e+00\n",
      "Epoch 44/50\n",
      "35/35 [==============================] - 0s 5ms/step - loss: -801721.6250 - accuracy: 0.0000e+00 - val_loss: -842197.4375 - val_accuracy: 0.0000e+00\n",
      "Epoch 45/50\n",
      "35/35 [==============================] - 0s 5ms/step - loss: -849089.8750 - accuracy: 0.0000e+00 - val_loss: -890936.4375 - val_accuracy: 0.0000e+00\n",
      "Epoch 46/50\n",
      "35/35 [==============================] - 0s 5ms/step - loss: -897918.6875 - accuracy: 0.0000e+00 - val_loss: -941840.4375 - val_accuracy: 0.0000e+00\n",
      "Epoch 47/50\n",
      "35/35 [==============================] - 0s 5ms/step - loss: -948486.2500 - accuracy: 0.0000e+00 - val_loss: -994562.8750 - val_accuracy: 0.0000e+00\n",
      "Epoch 48/50\n",
      "35/35 [==============================] - 0s 5ms/step - loss: -1000886.8125 - accuracy: 0.0000e+00 - val_loss: -1048845.1250 - val_accuracy: 0.0000e+00\n",
      "Epoch 49/50\n",
      "35/35 [==============================] - 0s 5ms/step - loss: -1054866.2500 - accuracy: 0.0000e+00 - val_loss: -1105232.5000 - val_accuracy: 0.0000e+00\n",
      "Epoch 50/50\n",
      "35/35 [==============================] - 0s 5ms/step - loss: -1110817.0000 - accuracy: 0.0000e+00 - val_loss: -1163105.6250 - val_accuracy: 0.0000e+00\n"
     ]
    }
   ],
   "source": [
    "from tensorflow.keras.callbacks import TensorBoard, EarlyStopping, ModelCheckpoint\n",
    "\n",
    "# Define callbacks\n",
    "tensorboard_callback = TensorBoard(log_dir='./logs', histogram_freq=1)\n",
    "early_stopping_callback = EarlyStopping(monitor='val_loss', patience=5)\n",
    "model_checkpoint_callback = ModelCheckpoint(filepath='best_model.h5', monitor='val_accuracy', save_best_only=True)\n",
    "\n",
    "# Fit the model with callbacks\n",
    "history = model.fit(X_train_scaled, y_train, validation_data=(X_val_scaled, y_val), \n",
    "                    epochs=50, batch_size=32, \n",
    "                    callbacks=[tensorboard_callback, early_stopping_callback, model_checkpoint_callback])\n"
   ]
  },
  {
   "cell_type": "markdown",
   "id": "6775e84a-6d0b-4fe5-ad97-2003543f7a45",
   "metadata": {},
   "source": [
    "# Q16. Get the model's parameters."
   ]
  },
  {
   "cell_type": "code",
   "execution_count": 24,
   "id": "a34ba610-57e0-4a77-9bbb-8f4489f38eea",
   "metadata": {},
   "outputs": [
    {
     "name": "stdout",
     "output_type": "stream",
     "text": [
      "Model: \"sequential\"\n",
      "_________________________________________________________________\n",
      " Layer (type)                Output Shape              Param #   \n",
      "=================================================================\n",
      " dense (Dense)               (None, 64)                832       \n",
      "                                                                 \n",
      " dense_1 (Dense)             (None, 32)                2080      \n",
      "                                                                 \n",
      " dense_2 (Dense)             (None, 1)                 33        \n",
      "                                                                 \n",
      "=================================================================\n",
      "Total params: 2945 (11.50 KB)\n",
      "Trainable params: 2945 (11.50 KB)\n",
      "Non-trainable params: 0 (0.00 Byte)\n",
      "_________________________________________________________________\n"
     ]
    }
   ],
   "source": [
    "model.summary()\n"
   ]
  },
  {
   "cell_type": "markdown",
   "id": "e64da2da-6196-4bc9-be69-7c3f8fa73672",
   "metadata": {},
   "source": [
    "# Q17. Store the model's training history as a Pandas DataFrame."
   ]
  },
  {
   "cell_type": "code",
   "execution_count": 25,
   "id": "b75827c7-6142-44df-a288-0d05d58dfb0f",
   "metadata": {},
   "outputs": [],
   "source": [
    "history_df = pd.DataFrame(history.history)\n"
   ]
  },
  {
   "cell_type": "markdown",
   "id": "6032ed61-84e5-4754-ac8c-42eca97d4416",
   "metadata": {},
   "source": [
    "# Q18. Plot the model's training history."
   ]
  },
  {
   "cell_type": "code",
   "execution_count": 26,
   "id": "a2dd8c72-d376-4c41-a154-3357e6c66ae7",
   "metadata": {},
   "outputs": [
    {
     "data": {
      "image/png": "[encoded data removed]",
      "text/plain": [
       "<Figure size 640x480 with 1 Axes>"
      ]
     },
     "metadata": {},
     "output_type": "display_data"
    },
    {
     "data": {
      "image/png": "[encoded data removed]",
      "text/plain": [
       "<Figure size 640x480 with 1 Axes>"
      ]
     },
     "metadata": {},
     "output_type": "display_data"
    }
   ],
   "source": [
    "import matplotlib.pyplot as plt\n",
    "\n",
    "# Plot training and validation loss\n",
    "plt.plot(history_df['loss'], label='Training Loss')\n",
    "plt.plot(history_df['val_loss'], label='Validation Loss')\n",
    "plt.legend()\n",
    "plt.xlabel('Epochs')\n",
    "plt.ylabel('Loss')\n",
    "plt.title('Training and Validation Loss')\n",
    "plt.show()\n",
    "\n",
    "# Plot training and validation accuracy\n",
    "plt.plot(history_df['accuracy'], label='Training Accuracy')\n",
    "plt.plot(history_df['val_accuracy'], label='Validation Accuracy')\n",
    "plt.legend()\n",
    "plt.xlabel('Epochs')\n",
    "plt.ylabel('Accuracy')\n",
    "plt.title('Training and Validation Accuracy')\n",
    "plt.show()\n"
   ]
  },
  {
   "cell_type": "markdown",
   "id": "3fef51b8-eae8-4add-8c31-1aaa624920a4",
   "metadata": {},
   "source": [
    "# Q19. Evaluate the model's performance using the test data."
   ]
  },
  {
   "cell_type": "code",
   "execution_count": 27,
   "id": "851d3136-7354-4bf2-8d79-487ea93e97be",
   "metadata": {},
   "outputs": [
    {
     "name": "stdout",
     "output_type": "stream",
     "text": [
      "8/8 [==============================] - 0s 2ms/step - loss: -1192614.0000 - accuracy: 0.0000e+00\n",
      "Test Loss: -1192614.0\n",
      "Test Accuracy: 0.0\n"
     ]
    }
   ],
   "source": [
    "test_loss, test_accuracy = model.evaluate(X_test_scaled, y_test)\n",
    "print(f\"Test Loss: {test_loss}\")\n",
    "print(f\"Test Accuracy: {test_accuracy}\")\n"
   ]
  },
  {
   "cell_type": "code",
   "execution_count": null,
   "id": "544452c9-0389-43d2-a956-053a5cf7006b",
   "metadata": {},
   "outputs": [],
   "source": []
  }
 ],
 "metadata": {
  "kernelspec": {
   "display_name": "Python 3 (ipykernel)",
   "language": "python",
   "name": "python3"
  },
  "language_info": {
   "codemirror_mode": {
    "name": "ipython",
    "version": 3
   },
   "file_extension": ".py",
   "mimetype": "text/x-python",
   "name": "python",
   "nbconvert_exporter": "python",
   "pygments_lexer": "ipython3",
   "version": "3.10.8"
  }
 },
 "nbformat": 4,
 "nbformat_minor": 5
}
